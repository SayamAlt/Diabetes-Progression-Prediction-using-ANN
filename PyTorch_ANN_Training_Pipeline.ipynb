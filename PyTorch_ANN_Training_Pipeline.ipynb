{
  "nbformat": 4,
  "nbformat_minor": 0,
  "metadata": {
    "colab": {
      "provenance": [],
      "gpuType": "T4"
    },
    "kernelspec": {
      "name": "python3",
      "display_name": "Python 3"
    },
    "language_info": {
      "name": "python"
    },
    "accelerator": "GPU"
  },
  "cells": [
    {
      "cell_type": "code",
      "source": [
        "!pip install torchinfo early-stopping-pytorch"
      ],
      "metadata": {
        "colab": {
          "base_uri": "https://localhost:8080/"
        },
        "id": "D81FUFV7PGMt",
        "outputId": "52f0d9fc-8da4-4a9b-9400-40b08422a760"
      },
      "execution_count": 1,
      "outputs": [
        {
          "output_type": "stream",
          "name": "stdout",
          "text": [
            "Requirement already satisfied: torchinfo in /usr/local/lib/python3.10/dist-packages (1.8.0)\n",
            "Requirement already satisfied: early-stopping-pytorch in /usr/local/lib/python3.10/dist-packages (1.0.10)\n",
            "Requirement already satisfied: numpy>=1.21 in /usr/local/lib/python3.10/dist-packages (from early-stopping-pytorch) (1.26.4)\n",
            "Requirement already satisfied: torch>=1.9.0 in /usr/local/lib/python3.10/dist-packages (from early-stopping-pytorch) (2.5.1+cu121)\n",
            "Requirement already satisfied: filelock in /usr/local/lib/python3.10/dist-packages (from torch>=1.9.0->early-stopping-pytorch) (3.16.1)\n",
            "Requirement already satisfied: typing-extensions>=4.8.0 in /usr/local/lib/python3.10/dist-packages (from torch>=1.9.0->early-stopping-pytorch) (4.12.2)\n",
            "Requirement already satisfied: networkx in /usr/local/lib/python3.10/dist-packages (from torch>=1.9.0->early-stopping-pytorch) (3.4.2)\n",
            "Requirement already satisfied: jinja2 in /usr/local/lib/python3.10/dist-packages (from torch>=1.9.0->early-stopping-pytorch) (3.1.4)\n",
            "Requirement already satisfied: fsspec in /usr/local/lib/python3.10/dist-packages (from torch>=1.9.0->early-stopping-pytorch) (2024.10.0)\n",
            "Requirement already satisfied: sympy==1.13.1 in /usr/local/lib/python3.10/dist-packages (from torch>=1.9.0->early-stopping-pytorch) (1.13.1)\n",
            "Requirement already satisfied: mpmath<1.4,>=1.1.0 in /usr/local/lib/python3.10/dist-packages (from sympy==1.13.1->torch>=1.9.0->early-stopping-pytorch) (1.3.0)\n",
            "Requirement already satisfied: MarkupSafe>=2.0 in /usr/local/lib/python3.10/dist-packages (from jinja2->torch>=1.9.0->early-stopping-pytorch) (3.0.2)\n"
          ]
        }
      ]
    },
    {
      "cell_type": "code",
      "execution_count": 2,
      "metadata": {
        "id": "fRZk3zHeJkyR"
      },
      "outputs": [],
      "source": [
        "import torch, time\n",
        "import torch.nn as nn\n",
        "import torch.nn.functional as F\n",
        "import torch.optim as optim\n",
        "import warnings\n",
        "warnings.filterwarnings('ignore')\n",
        "from sklearn.model_selection import train_test_split\n",
        "import numpy as np\n",
        "import pandas as pd\n",
        "import matplotlib.pyplot as plt\n",
        "from torch.utils.data import DataLoader, Dataset\n",
        "from sklearn.datasets import load_diabetes\n",
        "from torchinfo import summary\n",
        "from early_stopping_pytorch import EarlyStopping"
      ]
    },
    {
      "cell_type": "code",
      "source": [
        "if torch.cuda.is_available():\n",
        "  device = torch.device('cuda')\n",
        "else:\n",
        "  device = torch.device('cpu')\n",
        "\n",
        "print(device)"
      ],
      "metadata": {
        "colab": {
          "base_uri": "https://localhost:8080/"
        },
        "id": "WAVF84q_J7Gt",
        "outputId": "574daee4-177f-4882-f405-53d8f9aa7fb9"
      },
      "execution_count": 3,
      "outputs": [
        {
          "output_type": "stream",
          "name": "stdout",
          "text": [
            "cuda\n"
          ]
        }
      ]
    },
    {
      "cell_type": "code",
      "source": [
        "data = load_diabetes()\n",
        "data.keys()"
      ],
      "metadata": {
        "colab": {
          "base_uri": "https://localhost:8080/"
        },
        "id": "AjD_L3fjMYmM",
        "outputId": "9291eda1-a556-42e7-99fb-4f7a9853e3e1"
      },
      "execution_count": 4,
      "outputs": [
        {
          "output_type": "execute_result",
          "data": {
            "text/plain": [
              "dict_keys(['data', 'target', 'frame', 'DESCR', 'feature_names', 'data_filename', 'target_filename', 'data_module'])"
            ]
          },
          "metadata": {},
          "execution_count": 4
        }
      ]
    },
    {
      "cell_type": "code",
      "source": [
        "print(data['DESCR'])"
      ],
      "metadata": {
        "colab": {
          "base_uri": "https://localhost:8080/"
        },
        "id": "UL9N6Sx0MbWQ",
        "outputId": "cd8c9710-c914-40fb-9ba4-11da45861ebc"
      },
      "execution_count": 5,
      "outputs": [
        {
          "output_type": "stream",
          "name": "stdout",
          "text": [
            ".. _diabetes_dataset:\n",
            "\n",
            "Diabetes dataset\n",
            "----------------\n",
            "\n",
            "Ten baseline variables, age, sex, body mass index, average blood\n",
            "pressure, and six blood serum measurements were obtained for each of n =\n",
            "442 diabetes patients, as well as the response of interest, a\n",
            "quantitative measure of disease progression one year after baseline.\n",
            "\n",
            "**Data Set Characteristics:**\n",
            "\n",
            ":Number of Instances: 442\n",
            "\n",
            ":Number of Attributes: First 10 columns are numeric predictive values\n",
            "\n",
            ":Target: Column 11 is a quantitative measure of disease progression one year after baseline\n",
            "\n",
            ":Attribute Information:\n",
            "    - age     age in years\n",
            "    - sex\n",
            "    - bmi     body mass index\n",
            "    - bp      average blood pressure\n",
            "    - s1      tc, total serum cholesterol\n",
            "    - s2      ldl, low-density lipoproteins\n",
            "    - s3      hdl, high-density lipoproteins\n",
            "    - s4      tch, total cholesterol / HDL\n",
            "    - s5      ltg, possibly log of serum triglycerides level\n",
            "    - s6      glu, blood sugar level\n",
            "\n",
            "Note: Each of these 10 feature variables have been mean centered and scaled by the standard deviation times the square root of `n_samples` (i.e. the sum of squares of each column totals 1).\n",
            "\n",
            "Source URL:\n",
            "https://www4.stat.ncsu.edu/~boos/var.select/diabetes.html\n",
            "\n",
            "For more information see:\n",
            "Bradley Efron, Trevor Hastie, Iain Johnstone and Robert Tibshirani (2004) \"Least Angle Regression,\" Annals of Statistics (with discussion), 407-499.\n",
            "(https://web.stanford.edu/~hastie/Papers/LARS/LeastAngle_2002.pdf)\n",
            "\n"
          ]
        }
      ]
    },
    {
      "cell_type": "code",
      "source": [
        "X, y = load_diabetes(return_X_y=True,scaled=True)"
      ],
      "metadata": {
        "id": "YYQR0IgiKBrb"
      },
      "execution_count": 6,
      "outputs": []
    },
    {
      "cell_type": "code",
      "source": [
        "X.shape, y.shape"
      ],
      "metadata": {
        "colab": {
          "base_uri": "https://localhost:8080/"
        },
        "id": "eftyonp0KQyy",
        "outputId": "a8fdbc8c-3b94-4147-c2e9-b89a6ab39b5c"
      },
      "execution_count": 7,
      "outputs": [
        {
          "output_type": "execute_result",
          "data": {
            "text/plain": [
              "((442, 10), (442,))"
            ]
          },
          "metadata": {},
          "execution_count": 7
        }
      ]
    },
    {
      "cell_type": "code",
      "source": [
        "X, y"
      ],
      "metadata": {
        "colab": {
          "base_uri": "https://localhost:8080/"
        },
        "id": "b2ztKzI_UDDb",
        "outputId": "b3ad1707-4a29-4c0a-f3dc-655c1a8becac"
      },
      "execution_count": 8,
      "outputs": [
        {
          "output_type": "execute_result",
          "data": {
            "text/plain": [
              "(array([[ 0.03807591,  0.05068012,  0.06169621, ..., -0.00259226,\n",
              "          0.01990749, -0.01764613],\n",
              "        [-0.00188202, -0.04464164, -0.05147406, ..., -0.03949338,\n",
              "         -0.06833155, -0.09220405],\n",
              "        [ 0.08529891,  0.05068012,  0.04445121, ..., -0.00259226,\n",
              "          0.00286131, -0.02593034],\n",
              "        ...,\n",
              "        [ 0.04170844,  0.05068012, -0.01590626, ..., -0.01107952,\n",
              "         -0.04688253,  0.01549073],\n",
              "        [-0.04547248, -0.04464164,  0.03906215, ...,  0.02655962,\n",
              "          0.04452873, -0.02593034],\n",
              "        [-0.04547248, -0.04464164, -0.0730303 , ..., -0.03949338,\n",
              "         -0.00422151,  0.00306441]]),\n",
              " array([151.,  75., 141., 206., 135.,  97., 138.,  63., 110., 310., 101.,\n",
              "         69., 179., 185., 118., 171., 166., 144.,  97., 168.,  68.,  49.,\n",
              "         68., 245., 184., 202., 137.,  85., 131., 283., 129.,  59., 341.,\n",
              "         87.,  65., 102., 265., 276., 252.,  90., 100.,  55.,  61.,  92.,\n",
              "        259.,  53., 190., 142.,  75., 142., 155., 225.,  59., 104., 182.,\n",
              "        128.,  52.,  37., 170., 170.,  61., 144.,  52., 128.,  71., 163.,\n",
              "        150.,  97., 160., 178.,  48., 270., 202., 111.,  85.,  42., 170.,\n",
              "        200., 252., 113., 143.,  51.,  52., 210.,  65., 141.,  55., 134.,\n",
              "         42., 111.,  98., 164.,  48.,  96.,  90., 162., 150., 279.,  92.,\n",
              "         83., 128., 102., 302., 198.,  95.,  53., 134., 144., 232.,  81.,\n",
              "        104.,  59., 246., 297., 258., 229., 275., 281., 179., 200., 200.,\n",
              "        173., 180.,  84., 121., 161.,  99., 109., 115., 268., 274., 158.,\n",
              "        107.,  83., 103., 272.,  85., 280., 336., 281., 118., 317., 235.,\n",
              "         60., 174., 259., 178., 128.,  96., 126., 288.,  88., 292.,  71.,\n",
              "        197., 186.,  25.,  84.,  96., 195.,  53., 217., 172., 131., 214.,\n",
              "         59.,  70., 220., 268., 152.,  47.,  74., 295., 101., 151., 127.,\n",
              "        237., 225.,  81., 151., 107.,  64., 138., 185., 265., 101., 137.,\n",
              "        143., 141.,  79., 292., 178.,  91., 116.,  86., 122.,  72., 129.,\n",
              "        142.,  90., 158.,  39., 196., 222., 277.,  99., 196., 202., 155.,\n",
              "         77., 191.,  70.,  73.,  49.,  65., 263., 248., 296., 214., 185.,\n",
              "         78.,  93., 252., 150.,  77., 208.,  77., 108., 160.,  53., 220.,\n",
              "        154., 259.,  90., 246., 124.,  67.,  72., 257., 262., 275., 177.,\n",
              "         71.,  47., 187., 125.,  78.,  51., 258., 215., 303., 243.,  91.,\n",
              "        150., 310., 153., 346.,  63.,  89.,  50.,  39., 103., 308., 116.,\n",
              "        145.,  74.,  45., 115., 264.,  87., 202., 127., 182., 241.,  66.,\n",
              "         94., 283.,  64., 102., 200., 265.,  94., 230., 181., 156., 233.,\n",
              "         60., 219.,  80.,  68., 332., 248.,  84., 200.,  55.,  85.,  89.,\n",
              "         31., 129.,  83., 275.,  65., 198., 236., 253., 124.,  44., 172.,\n",
              "        114., 142., 109., 180., 144., 163., 147.,  97., 220., 190., 109.,\n",
              "        191., 122., 230., 242., 248., 249., 192., 131., 237.,  78., 135.,\n",
              "        244., 199., 270., 164.,  72.,  96., 306.,  91., 214.,  95., 216.,\n",
              "        263., 178., 113., 200., 139., 139.,  88., 148.,  88., 243.,  71.,\n",
              "         77., 109., 272.,  60.,  54., 221.,  90., 311., 281., 182., 321.,\n",
              "         58., 262., 206., 233., 242., 123., 167.,  63., 197.,  71., 168.,\n",
              "        140., 217., 121., 235., 245.,  40.,  52., 104., 132.,  88.,  69.,\n",
              "        219.,  72., 201., 110.,  51., 277.,  63., 118.,  69., 273., 258.,\n",
              "         43., 198., 242., 232., 175.,  93., 168., 275., 293., 281.,  72.,\n",
              "        140., 189., 181., 209., 136., 261., 113., 131., 174., 257.,  55.,\n",
              "         84.,  42., 146., 212., 233.,  91., 111., 152., 120.,  67., 310.,\n",
              "         94., 183.,  66., 173.,  72.,  49.,  64.,  48., 178., 104., 132.,\n",
              "        220.,  57.]))"
            ]
          },
          "metadata": {},
          "execution_count": 8
        }
      ]
    },
    {
      "cell_type": "code",
      "source": [
        "X_train, X_test, y_train, y_test = train_test_split(X, y, test_size=0.2, random_state=42)"
      ],
      "metadata": {
        "id": "wf1O3inbVrmU"
      },
      "execution_count": 9,
      "outputs": []
    },
    {
      "cell_type": "code",
      "source": [
        "X_train = torch.from_numpy(X_train.astype(np.float32)).to(device)\n",
        "X_test = torch.from_numpy(X_test.astype(np.float32)).to(device)\n",
        "y_train = torch.from_numpy(y_train.astype(np.float32)).to(device)\n",
        "y_test = torch.from_numpy(y_test.astype(np.float32)).to(device)"
      ],
      "metadata": {
        "id": "Nlys_jITUFBw"
      },
      "execution_count": 10,
      "outputs": []
    },
    {
      "cell_type": "code",
      "source": [
        "class CustomDataset(Dataset):\n",
        "\n",
        "  def __init__(self,features,labels):\n",
        "    super().__init__()\n",
        "    self.features = features\n",
        "    self.labels = labels\n",
        "\n",
        "  def __len__(self):\n",
        "    return self.features.shape[0]\n",
        "\n",
        "  def __getitem__(self,idx):\n",
        "    return self.features[idx], self.labels[idx]"
      ],
      "metadata": {
        "id": "E1mwi32jK2D1"
      },
      "execution_count": 11,
      "outputs": []
    },
    {
      "cell_type": "code",
      "source": [
        "torch.manual_seed(42)\n",
        "train_dataset = CustomDataset(X_train,y_train)\n",
        "test_dataset = CustomDataset(X_test,y_test)"
      ],
      "metadata": {
        "id": "xkHw24VHLim5"
      },
      "execution_count": 12,
      "outputs": []
    },
    {
      "cell_type": "code",
      "source": [
        "len(train_dataset), len(test_dataset)"
      ],
      "metadata": {
        "colab": {
          "base_uri": "https://localhost:8080/"
        },
        "id": "fJvVl5ruVaQ6",
        "outputId": "f96616fd-0a33-49ad-dcd5-e6abd08a2ee1"
      },
      "execution_count": 13,
      "outputs": [
        {
          "output_type": "execute_result",
          "data": {
            "text/plain": [
              "(353, 89)"
            ]
          },
          "metadata": {},
          "execution_count": 13
        }
      ]
    },
    {
      "cell_type": "code",
      "source": [
        "train_data_loader = DataLoader(dataset=train_dataset,batch_size=16,shuffle=True)\n",
        "test_data_loader = DataLoader(dataset=test_dataset,batch_size=16,shuffle=True)"
      ],
      "metadata": {
        "id": "kdWVigqaL0po"
      },
      "execution_count": 14,
      "outputs": []
    },
    {
      "cell_type": "code",
      "source": [
        "for x, y in train_data_loader:\n",
        "  print(x.shape, y.shape)\n",
        "  break"
      ],
      "metadata": {
        "colab": {
          "base_uri": "https://localhost:8080/"
        },
        "id": "tUOYObn3MD43",
        "outputId": "015c7f82-d6e7-4ca8-df88-9f14f6619ddf"
      },
      "execution_count": 15,
      "outputs": [
        {
          "output_type": "stream",
          "name": "stdout",
          "text": [
            "torch.Size([16, 10]) torch.Size([16])\n"
          ]
        }
      ]
    },
    {
      "cell_type": "code",
      "source": [
        "x, y"
      ],
      "metadata": {
        "colab": {
          "base_uri": "https://localhost:8080/"
        },
        "id": "UEnA7bAXMJ0t",
        "outputId": "a7b08972-bdfd-41e0-a323-f347a933734a"
      },
      "execution_count": 16,
      "outputs": [
        {
          "output_type": "execute_result",
          "data": {
            "text/plain": [
              "(tensor([[-0.0273,  0.0507, -0.0073, -0.0401, -0.0112, -0.0138,  0.0597, -0.0395,\n",
              "          -0.0824, -0.0259],\n",
              "         [ 0.0381,  0.0507, -0.0299, -0.0401, -0.0332, -0.0242, -0.0103, -0.0026,\n",
              "          -0.0129,  0.0031],\n",
              "         [-0.0164,  0.0507,  0.0024,  0.0150,  0.0218, -0.0101, -0.0250,  0.0343,\n",
              "           0.0855,  0.0818],\n",
              "         [ 0.0671, -0.0446,  0.0369, -0.0504, -0.0236, -0.0345,  0.0486, -0.0395,\n",
              "          -0.0260, -0.0384],\n",
              "         [ 0.0417, -0.0446, -0.0644,  0.0356,  0.0122, -0.0580,  0.1812, -0.0764,\n",
              "          -0.0006, -0.0508],\n",
              "         [ 0.0090, -0.0446, -0.0321, -0.0263,  0.0425, -0.0104,  0.1591, -0.0764,\n",
              "          -0.0119, -0.0384],\n",
              "         [ 0.0599,  0.0507,  0.0412,  0.0115,  0.0411,  0.0707, -0.0360,  0.0343,\n",
              "          -0.0109, -0.0301],\n",
              "         [-0.0418, -0.0446, -0.0666, -0.0470, -0.0373, -0.0433,  0.0486, -0.0395,\n",
              "          -0.0562, -0.0135],\n",
              "         [ 0.0199,  0.0507,  0.0455,  0.0299, -0.0621, -0.0558, -0.0729,  0.0269,\n",
              "           0.0456,  0.0403],\n",
              "         [-0.0309, -0.0446,  0.0056, -0.0091,  0.0191,  0.0068,  0.0744, -0.0395,\n",
              "          -0.0412, -0.0425],\n",
              "         [ 0.0054,  0.0507,  0.0348, -0.0011,  0.1525,  0.1988, -0.0618,  0.1852,\n",
              "           0.0156,  0.0735],\n",
              "         [ 0.0199,  0.0507, -0.0127,  0.0701, -0.0112,  0.0071, -0.0397,  0.0343,\n",
              "           0.0054,  0.0031],\n",
              "         [-0.0237, -0.0446,  0.0455,  0.0907, -0.0181, -0.0354,  0.0707, -0.0395,\n",
              "          -0.0345, -0.0094],\n",
              "         [-0.0491,  0.0507, -0.0051, -0.0470, -0.0208, -0.0204, -0.0692,  0.0712,\n",
              "           0.0612, -0.0384],\n",
              "         [-0.0491, -0.0446,  0.0251,  0.0081,  0.0204,  0.0178,  0.0523, -0.0395,\n",
              "          -0.0412,  0.0072],\n",
              "         [ 0.0344, -0.0446,  0.0186,  0.0563,  0.0122, -0.0545, -0.0692,  0.0712,\n",
              "           0.1301,  0.0072]], device='cuda:0'),\n",
              " tensor([ 52., 160., 123.,  90., 170.,  87., 198.,  59., 232.,  60.,  84.,  91.,\n",
              "         175., 126., 182., 273.], device='cuda:0'))"
            ]
          },
          "metadata": {},
          "execution_count": 16
        }
      ]
    },
    {
      "cell_type": "code",
      "source": [
        "class ANN(nn.Module):\n",
        "\n",
        "  def __init__(self):\n",
        "    super().__init__()\n",
        "    self.fc1 = nn.Linear(10,64)\n",
        "    self.fc2 = nn.Linear(64,32)\n",
        "    self.fc3 = nn.Linear(32,1)\n",
        "\n",
        "  def forward(self,x):\n",
        "    output = F.relu(self.fc1(x))\n",
        "    output = F.relu(self.fc2(output))\n",
        "    return self.fc3(output)"
      ],
      "metadata": {
        "id": "Z-rrrP_lMuhn"
      },
      "execution_count": 17,
      "outputs": []
    },
    {
      "cell_type": "code",
      "source": [
        "torch.manual_seed(42)\n",
        "model = ANN().to(device)\n",
        "model"
      ],
      "metadata": {
        "colab": {
          "base_uri": "https://localhost:8080/"
        },
        "id": "CLKnUxM0PAZh",
        "outputId": "76642884-21b7-4613-d650-31bdde13cd35"
      },
      "execution_count": 18,
      "outputs": [
        {
          "output_type": "execute_result",
          "data": {
            "text/plain": [
              "ANN(\n",
              "  (fc1): Linear(in_features=10, out_features=64, bias=True)\n",
              "  (fc2): Linear(in_features=64, out_features=32, bias=True)\n",
              "  (fc3): Linear(in_features=32, out_features=1, bias=True)\n",
              ")"
            ]
          },
          "metadata": {},
          "execution_count": 18
        }
      ]
    },
    {
      "cell_type": "code",
      "source": [
        "summary(model)"
      ],
      "metadata": {
        "colab": {
          "base_uri": "https://localhost:8080/"
        },
        "id": "0oovLb-SPCxT",
        "outputId": "4c79c250-1d27-41ff-c330-e66ba938ab94"
      },
      "execution_count": 19,
      "outputs": [
        {
          "output_type": "execute_result",
          "data": {
            "text/plain": [
              "=================================================================\n",
              "Layer (type:depth-idx)                   Param #\n",
              "=================================================================\n",
              "ANN                                      --\n",
              "├─Linear: 1-1                            704\n",
              "├─Linear: 1-2                            2,080\n",
              "├─Linear: 1-3                            33\n",
              "=================================================================\n",
              "Total params: 2,817\n",
              "Trainable params: 2,817\n",
              "Non-trainable params: 0\n",
              "================================================================="
            ]
          },
          "metadata": {},
          "execution_count": 19
        }
      ]
    },
    {
      "cell_type": "code",
      "source": [
        "total_params = 0\n",
        "\n",
        "for param in model.parameters():\n",
        "  print(param.numel())\n",
        "  total_params += param.numel()\n",
        "\n",
        "print(\"Total parameters: \",total_params)"
      ],
      "metadata": {
        "colab": {
          "base_uri": "https://localhost:8080/"
        },
        "id": "uHrdncRIPVID",
        "outputId": "5e4798f1-bb83-4ac7-e4bd-06ecaade1726"
      },
      "execution_count": 20,
      "outputs": [
        {
          "output_type": "stream",
          "name": "stdout",
          "text": [
            "640\n",
            "64\n",
            "2048\n",
            "32\n",
            "32\n",
            "1\n",
            "Total parameters:  2817\n"
          ]
        }
      ]
    },
    {
      "cell_type": "code",
      "source": [
        "criterion = nn.HuberLoss(delta=0.8)\n",
        "optimizer = optim.AdamW(params=model.parameters(),lr=0.01,weight_decay=0.01)\n",
        "early_stopping = EarlyStopping(patience=20,verbose=True)"
      ],
      "metadata": {
        "id": "p0GJGnSLMRIh"
      },
      "execution_count": 21,
      "outputs": []
    },
    {
      "cell_type": "code",
      "source": [
        "epochs = 100\n",
        "train_losses = []\n",
        "test_losses = []\n",
        "\n",
        "start_time = time.time()\n",
        "\n",
        "for epoch in range(1,epochs+1):\n",
        "  train_epoch_loss = 0\n",
        "  test_epoch_loss = 0\n",
        "\n",
        "  model.train()\n",
        "\n",
        "  for batch_no, (X_train, y_train) in enumerate(train_data_loader):\n",
        "      X_train, y_train = X_train.to(device), y_train.to(device)\n",
        "      optimizer.zero_grad()\n",
        "      y_pred = model(X_train)\n",
        "      loss = criterion(y_pred,y_train)\n",
        "      loss.backward()\n",
        "      optimizer.step()\n",
        "      train_epoch_loss += loss.item()\n",
        "\n",
        "  train_losses.append(train_epoch_loss/len(train_data_loader))\n",
        "\n",
        "  model.eval()\n",
        "\n",
        "  with torch.no_grad():\n",
        "    for batch_no, (X_test, y_test) in enumerate(test_data_loader):\n",
        "      X_test, y_test = X_test.to(device), y_test.to(device)\n",
        "      y_pred = model(X_test)\n",
        "      loss = criterion(y_pred,y_test)\n",
        "      test_epoch_loss += loss.item()\n",
        "\n",
        "  test_losses.append(test_epoch_loss/len(test_data_loader))\n",
        "\n",
        "  print(f\"Epoch: {epoch} -> Train Loss: {train_epoch_loss/len(train_data_loader)}, Test Loss: {test_epoch_loss/len(test_data_loader)}\")\n",
        "\n",
        "  early_stopping(test_epoch_loss/len(test_data_loader),model)\n",
        "\n",
        "  if early_stopping.early_stop:\n",
        "    print(\"Early stopping\")\n",
        "    break\n",
        "\n",
        "print(f\"Total training time: {(time.time() - start_time)/60} minutes.\")"
      ],
      "metadata": {
        "colab": {
          "base_uri": "https://localhost:8080/"
        },
        "id": "OXdUv78pPoMT",
        "outputId": "b87c3fc2-7186-4dbf-dc38-e02c027eef45"
      },
      "execution_count": 22,
      "outputs": [
        {
          "output_type": "stream",
          "name": "stdout",
          "text": [
            "Epoch: 1 -> Train Loss: 122.66440482761548, Test Loss: 109.18539810180664\n",
            "Validation loss decreased (inf --> 109.185398).  Saving model ...\n",
            "Epoch: 2 -> Train Loss: 103.05151599386464, Test Loss: 74.209898630778\n",
            "Validation loss decreased (109.185398 --> 74.209899).  Saving model ...\n",
            "Epoch: 3 -> Train Loss: 57.885015653527304, Test Loss: 52.255004247029625\n",
            "Validation loss decreased (74.209899 --> 52.255004).  Saving model ...\n",
            "Epoch: 4 -> Train Loss: 51.837730407714844, Test Loss: 48.65909957885742\n",
            "Validation loss decreased (52.255004 --> 48.659100).  Saving model ...\n",
            "Epoch: 5 -> Train Loss: 50.829197386036746, Test Loss: 49.859327952067055\n",
            "EarlyStopping counter: 1 out of 20\n",
            "Epoch: 6 -> Train Loss: 52.88056680430537, Test Loss: 50.25654665629069\n",
            "EarlyStopping counter: 2 out of 20\n",
            "Epoch: 7 -> Train Loss: 53.08180153888205, Test Loss: 49.97127723693848\n",
            "EarlyStopping counter: 3 out of 20\n",
            "Epoch: 8 -> Train Loss: 52.038032863451086, Test Loss: 50.10307757059733\n",
            "EarlyStopping counter: 4 out of 20\n",
            "Epoch: 9 -> Train Loss: 50.29189236267753, Test Loss: 50.74521573384603\n",
            "EarlyStopping counter: 5 out of 20\n",
            "Epoch: 10 -> Train Loss: 52.08681371937627, Test Loss: 49.58285268147787\n",
            "EarlyStopping counter: 6 out of 20\n",
            "Epoch: 11 -> Train Loss: 51.70066858374554, Test Loss: 49.28359285990397\n",
            "EarlyStopping counter: 7 out of 20\n",
            "Epoch: 12 -> Train Loss: 52.1410668414572, Test Loss: 50.1315663655599\n",
            "EarlyStopping counter: 8 out of 20\n",
            "Epoch: 13 -> Train Loss: 52.70438484523607, Test Loss: 48.269679387410484\n",
            "Validation loss decreased (48.659100 --> 48.269679).  Saving model ...\n",
            "Epoch: 14 -> Train Loss: 51.90693432351817, Test Loss: 50.599836349487305\n",
            "EarlyStopping counter: 1 out of 20\n",
            "Epoch: 15 -> Train Loss: 52.47814692621646, Test Loss: 50.222825368245445\n",
            "EarlyStopping counter: 2 out of 20\n",
            "Epoch: 16 -> Train Loss: 51.9153648044752, Test Loss: 49.151528676350914\n",
            "EarlyStopping counter: 3 out of 20\n",
            "Epoch: 17 -> Train Loss: 54.373103597889774, Test Loss: 50.678223292032875\n",
            "EarlyStopping counter: 4 out of 20\n",
            "Epoch: 18 -> Train Loss: 53.203653252643086, Test Loss: 49.76511255900065\n",
            "EarlyStopping counter: 5 out of 20\n",
            "Epoch: 19 -> Train Loss: 53.40963960730511, Test Loss: 49.76935323079427\n",
            "EarlyStopping counter: 6 out of 20\n",
            "Epoch: 20 -> Train Loss: 53.2794534434443, Test Loss: 50.121005376180015\n",
            "EarlyStopping counter: 7 out of 20\n",
            "Epoch: 21 -> Train Loss: 54.062764043393344, Test Loss: 49.61843236287435\n",
            "EarlyStopping counter: 8 out of 20\n",
            "Epoch: 22 -> Train Loss: 52.392201091932215, Test Loss: 49.27488136291504\n",
            "EarlyStopping counter: 9 out of 20\n",
            "Epoch: 23 -> Train Loss: 51.29354062287704, Test Loss: 49.3139279683431\n",
            "EarlyStopping counter: 10 out of 20\n",
            "Epoch: 24 -> Train Loss: 55.76134308524754, Test Loss: 50.5519962310791\n",
            "EarlyStopping counter: 11 out of 20\n",
            "Epoch: 25 -> Train Loss: 52.64589674576469, Test Loss: 49.73238563537598\n",
            "EarlyStopping counter: 12 out of 20\n",
            "Epoch: 26 -> Train Loss: 51.968320763629414, Test Loss: 49.79516156514486\n",
            "EarlyStopping counter: 13 out of 20\n",
            "Epoch: 27 -> Train Loss: 50.77084501929905, Test Loss: 48.89758745829264\n",
            "EarlyStopping counter: 14 out of 20\n",
            "Epoch: 28 -> Train Loss: 53.11307144165039, Test Loss: 49.01380284627279\n",
            "EarlyStopping counter: 15 out of 20\n",
            "Epoch: 29 -> Train Loss: 56.156855375870414, Test Loss: 48.805036544799805\n",
            "EarlyStopping counter: 16 out of 20\n",
            "Epoch: 30 -> Train Loss: 53.13382803875467, Test Loss: 49.818424224853516\n",
            "EarlyStopping counter: 17 out of 20\n",
            "Epoch: 31 -> Train Loss: 52.6488617606785, Test Loss: 48.7049757639567\n",
            "EarlyStopping counter: 18 out of 20\n",
            "Epoch: 32 -> Train Loss: 55.819459998089336, Test Loss: 50.47518412272135\n",
            "EarlyStopping counter: 19 out of 20\n",
            "Epoch: 33 -> Train Loss: 51.185666270878, Test Loss: 48.80639457702637\n",
            "EarlyStopping counter: 20 out of 20\n",
            "Early stopping\n",
            "Total training time: 0.05845983425776164 minutes.\n"
          ]
        }
      ]
    },
    {
      "cell_type": "code",
      "source": [
        "plt.plot(train_losses,label='Train Loss')\n",
        "plt.plot(test_losses,label='Test Loss')\n",
        "plt.legend()\n",
        "plt.show()"
      ],
      "metadata": {
        "colab": {
          "base_uri": "https://localhost:8080/",
          "height": 430
        },
        "id": "hYgglsqIT-WH",
        "outputId": "c969bad6-e67d-4de5-8676-326f7a4f2064"
      },
      "execution_count": 23,
      "outputs": [
        {
          "output_type": "display_data",
          "data": {
            "text/plain": [
              "<Figure size 640x480 with 1 Axes>"
            ],
            "image/png": "[encoded data removed]"
          },
          "metadata": {}
        }
      ]
    },
    {
      "cell_type": "code",
      "source": [
        "torch.save(model,'diabetes_model.pt')"
      ],
      "metadata": {
        "id": "e-DGnOZ0Yoap"
      },
      "execution_count": 24,
      "outputs": []
    }
  ]
}